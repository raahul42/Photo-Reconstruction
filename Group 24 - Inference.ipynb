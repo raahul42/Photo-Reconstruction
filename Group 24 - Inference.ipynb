{
 "cells": [
  {
   "attachments": {},
   "cell_type": "markdown",
   "metadata": {},
   "source": [
    "#### Imports and functions"
   ]
  },
  {
   "cell_type": "code",
   "execution_count": 52,
   "metadata": {},
   "outputs": [],
   "source": [
    "import pandas as pd\n",
    "import tensorflow as tf\n",
    "import gdown\n",
    "import numpy as np\n",
    "import matplotlib.pyplot as plt\n",
    "\n",
    "import cv2 as cv\n",
    "\n",
    "folder_url = \"https://drive.google.com/drive/folders/19toF0-LXqLJwthD2ER6WNGkpQnPW6tYB?usp=share_link\"\n",
    "folder_id = \"19toF0-LXqLJwthD2ER6WNGkpQnPW6tYB?usp=sharing\"\n",
    "gdown.download_folder(id=folder_id)"
   ]
  },
  {
   "cell_type": "code",
   "execution_count": 49,
   "metadata": {},
   "outputs": [],
   "source": [
    "def normalize_test(input_image):\n",
    "    input_image = tf.cast(input_image, tf.float32)\n",
    "    input_image = (input_image / 127.5) - 1\n",
    "\n",
    "    return input_image\n",
    "\n",
    "def generate_test_images(model, test_input):\n",
    "    prediction = model(test_input, training=True)\n",
    "    return(prediction[0])\n",
    "\n",
    "def submission_data(test_path):\n",
    "    test_mask_data = pd.read_csv(test_path + '/masked_info.csv') #.drop(['Unnamed: 0'],axis=1)\n",
    "    submission = []\n",
    "    for i, img in enumerate(test_dataset):\n",
    "        filename = file_paths[i].split('/')[-1]\n",
    "        y1, x1, y2, x2 = test_mask_data[test_mask_data['filename']==filename].iloc[0,2:]\n",
    "        tensor_array = generate_test_images(generator, img)\n",
    "        im = np.array(tensor_array)\n",
    "        b, g, r = cv.split(im)\n",
    "        result = np.zeros((256, 256))\n",
    "        normalized_b = cv.normalize(b,result, 0, 1, cv.NORM_MINMAX, dtype=cv.CV_32F)\n",
    "        normalized_g = cv.normalize(g,result, 0, 1, cv.NORM_MINMAX, dtype=cv.CV_32F)\n",
    "        normalized_r = cv.normalize(r,result, 0, 1, cv.NORM_MINMAX, dtype=cv.CV_32F)\n",
    "        for i in range(y1 , y1+75):\n",
    "            for j in range(x1, x1+75):\n",
    "                temp1 = filename + '_' + 'box1' + '_' +  str(i) + '_' + str(j) + '_'\n",
    "                submission.append((temp1 + '0', normalized_b[i,j]))\n",
    "                submission.append((temp1 + '1', normalized_g[i,j]))\n",
    "                submission.append((temp1 + '2', normalized_r[i,j]))\n",
    "        for i in range(y2 , y2+75):\n",
    "            for j in range(x2, x2+75):\n",
    "                temp1 = filename + '_' + 'box2' + '_' + str(i) + '_' + str(j) + '_'\n",
    "                submission.append((temp1 + '0', normalized_b[i,j]))\n",
    "                submission.append((temp1 + '1', normalized_g[i,j]))\n",
    "                submission.append((temp1 + '2', normalized_r[i,j]))\n",
    "    df = pd.DataFrame(submission, columns=['filename_box_pixel','value'])\n",
    "    return(df)"
   ]
  },
  {
   "attachments": {},
   "cell_type": "markdown",
   "metadata": {},
   "source": [
    "#### Inference"
   ]
  },
  {
   "cell_type": "code",
   "execution_count": null,
   "metadata": {},
   "outputs": [],
   "source": [
    "## INSERT THE TEST PATH HERE\n",
    "\n",
    "test_path = \"-- test path --\"\n",
    "\n",
    "# please ensure there's a masked_info.csv file inside the test path"
   ]
  },
  {
   "cell_type": "code",
   "execution_count": 42,
   "metadata": {},
   "outputs": [
    {
     "name": "stdout",
     "output_type": "stream",
     "text": [
      "WARNING:tensorflow:No training configuration found in save file, so the model was *not* compiled. Compile it manually.\n",
      "Found 200 files belonging to 1 classes.\n"
     ]
    }
   ],
   "source": [
    "generator = tf.keras.models.load_model('./generator_model')\n",
    "test_dataset = tf.keras.utils.image_dataset_from_directory(directory=test_path, \n",
    "                                                batch_size=1, image_size=[256, 256], labels=\"inferred\", \n",
    "                                                label_mode=None, shuffle=False)\n",
    "                                                \n",
    "file_paths = test_dataset.file_paths\n",
    "AUTOTUNE = tf.data.AUTOTUNE\n",
    "test_dataset = test_dataset.map(normalize_test, num_parallel_calls=AUTOTUNE)"
   ]
  },
  {
   "attachments": {},
   "cell_type": "markdown",
   "metadata": {},
   "source": [
    "#### Submission file generation"
   ]
  },
  {
   "cell_type": "code",
   "execution_count": 53,
   "metadata": {},
   "outputs": [],
   "source": [
    "df = submission_data(test_path)\n",
    "df.to_csv(\"submission_group24.csv\",index=False)\n",
    "df.head()"
   ]
  }
 ],
 "metadata": {
  "kernelspec": {
   "display_name": "base",
   "language": "python",
   "name": "python3"
  },
  "language_info": {
   "codemirror_mode": {
    "name": "ipython",
    "version": 3
   },
   "file_extension": ".py",
   "mimetype": "text/x-python",
   "name": "python",
   "nbconvert_exporter": "python",
   "pygments_lexer": "ipython3",
   "version": "3.9.13"
  },
  "orig_nbformat": 4
 },
 "nbformat": 4,
 "nbformat_minor": 2
}
